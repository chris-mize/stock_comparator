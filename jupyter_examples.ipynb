{
 "cells": [
  {
   "cell_type": "markdown",
   "id": "a02d2340",
   "metadata": {},
   "source": [
    "# Stock Comparator Usage Examples\n",
    "Before we start, \n",
    "1) did you make the working directory exactly \"stock_comparator\"? If not, the program will error. I could have been smarter about this if I had more time, but since I base all my pathing off of basepath = \"./\", I need to make sure we start in the right directory!\n",
    "\n",
    "2) do you have yfinance installed? This is only needed if you increase the number of stocks above 500, or if you delete files in the ./data folder. I recommend to delete a few files just to make sure my program does what I claim it does. :)\n",
    "\n",
    "## 1) Standard Use Case\n",
    "\n",
    "### 1.1) Import"
   ]
  },
  {
   "cell_type": "code",
   "execution_count": null,
   "id": "f766b236",
   "metadata": {},
   "outputs": [],
   "source": [
    "from stock_comparator import StockComparator"
   ]
  },
  {
   "cell_type": "markdown",
   "id": "e6bd235e",
   "metadata": {},
   "source": [
    "### 1.2) Make a StockComparator Instance\n",
    "Note - it is at THIS TIME that the results folder for a specific instance is made.\n",
    "The results folder is ./results/YYYY_mm_dd_HHMMSS"
   ]
  },
  {
   "cell_type": "code",
   "execution_count": null,
   "id": "7420820e",
   "metadata": {
    "scrolled": true
   },
   "outputs": [],
   "source": [
    "master_file = \"nasdaq_screener_1636426496281.csv\"\n",
    "\n",
    "comp = StockComparator(master_file, num_stocks=500,\n",
    "                            smooth_window=\"2W\", chg_period=10)"
   ]
  },
  {
   "cell_type": "markdown",
   "id": "d7a4886c",
   "metadata": {},
   "source": [
    "### 1.3) How many processes to use?\n",
    "I recommend leaving some headroom, i.e. if you have 12 cpu threads, do about 8 processes. \n",
    "We need to leave some resources for the system."
   ]
  },
  {
   "cell_type": "code",
   "execution_count": null,
   "id": "cf38036a",
   "metadata": {},
   "outputs": [],
   "source": [
    "from os import cpu_count\n",
    "cpu_count()"
   ]
  },
  {
   "cell_type": "markdown",
   "id": "5965128b",
   "metadata": {},
   "source": [
    "### 1.4) Start Multiprocessing Batch Correlation\n",
    "If executing this script externally, each process makes its own output to the terminal. This makes a lot of outputs.\n",
    "If you are in an iPython terminal (Jupyter or Spyder), the processes don't output to the terminal, so you don't get any output while it's running. Additionally, there is some risk that the child processes won't inherit the module (at least in spyder). This is why I recommend to run this program in a terminal."
   ]
  },
  {
   "cell_type": "code",
   "execution_count": null,
   "id": "409afe04",
   "metadata": {},
   "outputs": [],
   "source": [
    "comp.batch_correlate_multiprocess(p=8)"
   ]
  },
  {
   "cell_type": "markdown",
   "id": "c3f69802",
   "metadata": {},
   "source": [
    "### 1.5) Results and Saving\n",
    "Results are saved in `self.corr_results`. Let's show the highest correlating 10 results."
   ]
  },
  {
   "cell_type": "code",
   "execution_count": null,
   "id": "128f050e",
   "metadata": {
    "scrolled": false
   },
   "outputs": [],
   "source": [
    "comp.corr_results.head(10)"
   ]
  },
  {
   "cell_type": "markdown",
   "id": "65fa774b",
   "metadata": {},
   "source": [
    "### 1.6) Recalculating Results and Plotting\n",
    "When first cross-correlating the stocks, I don't return the arrays of the correlation signal and lags between them (that would be an insane amount of data). The point of this next bit is to perform the correlation again on the top correlating `n` number of stocks, but this time returning the full correlation array for that comparison. Additionally, we can set a minimum and maximum lag threshold (`lag_min` and `lag_max`, respectively), so that non-lagging stock combinations are ignored. Only combinations of stocks with lag values having an absolute value between `lag_min` and `lag_max` are kept. Finally, plot the top `plot_top` number of stocks into the results directory."
   ]
  },
  {
   "cell_type": "code",
   "execution_count": null,
   "id": "b0d726d7",
   "metadata": {},
   "outputs": [],
   "source": [
    "comp.plot_top_correlations(n=200, lag_min=3, lag_max=60, plot_top=10)"
   ]
  },
  {
   "cell_type": "markdown",
   "id": "e8e0f4e5",
   "metadata": {},
   "source": [
    "### 1.7) Top Results\n",
    "The top results are stored in `self.results_top`, and also exported to the results directory."
   ]
  },
  {
   "cell_type": "code",
   "execution_count": null,
   "id": "bcafb861",
   "metadata": {},
   "outputs": [],
   "source": [
    "comp.results_top"
   ]
  }
 ],
 "metadata": {
  "kernelspec": {
   "display_name": "Python 3 (ipykernel)",
   "language": "python",
   "name": "python3"
  },
  "language_info": {
   "codemirror_mode": {
    "name": "ipython",
    "version": 3
   },
   "file_extension": ".py",
   "mimetype": "text/x-python",
   "name": "python",
   "nbconvert_exporter": "python",
   "pygments_lexer": "ipython3",
   "version": "3.8.11"
  }
 },
 "nbformat": 4,
 "nbformat_minor": 5
}
